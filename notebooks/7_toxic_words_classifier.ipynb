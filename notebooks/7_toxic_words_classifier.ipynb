{
 "cells": [
  {
   "cell_type": "code",
   "execution_count": 190,
   "metadata": {},
   "outputs": [],
   "source": [
    "import torch\n",
    "import pandas as pd\n",
    "from tqdm import tqdm\n",
    "from transformers import BertForMaskedLM, BertTokenizer, DataCollatorForLanguageModeling\n",
    "from torch.utils.data import Dataset, DataLoader"
   ]
  },
  {
   "cell_type": "code",
   "execution_count": 191,
   "metadata": {},
   "outputs": [],
   "source": [
    "class ToxicWordsDataset(Dataset):\n",
    "    def __init__(self):\n",
    "        model_name = \"bert-base-uncased\"\n",
    "        self.tokenizer = BertTokenizer.from_pretrained(model_name)\n",
    "\n",
    "        positive_words = open('../data/external/positive_words.txt').read().split('\\n')\n",
    "        negative_words = open('../data/external/negative_words.txt').read().split('\\n')\n",
    "        toxic_words = open('../data/external/toxic_words.txt').read().split('\\n')\n",
    "        toxic_words.extend(negative_words)\n",
    "\n",
    "        toxic_words = [w for w in toxic_words if w.isalnum() and len(w) > 1]\n",
    "        positive_words = [w for w in positive_words if w.isalnum() and len(w) > 1]\n",
    "\n",
    "        self.texts = []\n",
    "        self.labels = []\n",
    "\n",
    "        for w in tqdm(toxic_words):\n",
    "            word = self.tokenizer(w, add_special_tokens=False, max_length=1, truncation=True).input_ids\n",
    "            self.texts.append(word[0])\n",
    "            self.labels.append(1)\n",
    "\n",
    "        for w in tqdm(positive_words):\n",
    "            word = self.tokenizer(w, add_special_tokens=False, max_length=1, truncation=True).input_ids\n",
    "            self.texts.append(word[0])\n",
    "            self.labels.append(0)\n",
    "\n",
    "    def __len__(self):\n",
    "        return len(self.texts)\n",
    "\n",
    "    def __getitem__(self, idx):\n",
    "        return self.texts[idx], self.labels[idx]"
   ]
  },
  {
   "cell_type": "code",
   "execution_count": 192,
   "metadata": {},
   "outputs": [
    {
     "name": "stderr",
     "output_type": "stream",
     "text": [
      "  0%|          | 0/5038 [00:00<?, ?it/s]"
     ]
    },
    {
     "name": "stderr",
     "output_type": "stream",
     "text": [
      "100%|██████████| 5038/5038 [00:00<00:00, 6326.00it/s]\n",
      "100%|██████████| 1904/1904 [00:00<00:00, 7436.92it/s]\n"
     ]
    }
   ],
   "source": [
    "dataset = ToxicWordsDataset()"
   ]
  },
  {
   "cell_type": "code",
   "execution_count": 193,
   "metadata": {},
   "outputs": [
    {
     "name": "stdout",
     "output_type": "stream",
     "text": [
      "1018 1\n"
     ]
    }
   ],
   "source": [
    "for x, y in dataset:\n",
    "    print(x, y)\n",
    "    break"
   ]
  },
  {
   "cell_type": "code",
   "execution_count": 194,
   "metadata": {},
   "outputs": [],
   "source": [
    "train_size = int(0.9 * len(dataset))\n",
    "val_size = len(dataset) - train_size\n",
    "\n",
    "train_dataset, val_dataset = torch.utils.data.random_split(dataset, [train_size, val_size])\n",
    "\n",
    "train_dataloader = DataLoader(train_dataset, batch_size=32, shuffle=True)\n",
    "val_dataloader = DataLoader(val_dataset, batch_size=32, shuffle=True)"
   ]
  },
  {
   "cell_type": "code",
   "execution_count": 195,
   "metadata": {},
   "outputs": [],
   "source": [
    "import torch.nn as nn\n",
    "\n",
    "class ToxicWordsClassifier(nn.Module):\n",
    "    def __init__(self, vocab_size, embedding_dim, dropout=0.1):\n",
    "        super().__init__()\n",
    "        self.embedding = nn.Embedding(vocab_size, embedding_dim)\n",
    "        self.dropout = nn.Dropout(dropout)\n",
    "        self.fc = nn.Linear(embedding_dim, 1)\n",
    "        self.sigmoid = nn.Sigmoid()\n",
    "\n",
    "    def forward(self, x):\n",
    "        x = self.embedding(x)\n",
    "        x = self.dropout(x)\n",
    "        x = self.fc(x)\n",
    "        x = self.sigmoid(x)\n",
    "        return x\n",
    "    \n",
    "model = ToxicWordsClassifier(dataset.tokenizer.vocab_size, 512)"
   ]
  },
  {
   "cell_type": "code",
   "execution_count": 196,
   "metadata": {},
   "outputs": [],
   "source": [
    "optimizer = torch.optim.Adam(model.parameters(), lr=0.001)\n",
    "criterion = nn.BCELoss()\n",
    "\n",
    "device = torch.device('cuda' if torch.cuda.is_available() else 'cpu')"
   ]
  },
  {
   "cell_type": "code",
   "execution_count": 197,
   "metadata": {},
   "outputs": [],
   "source": [
    "def train(epoch, model, optimizer, criterion, train_dataloader, device):\n",
    "    model.to(device)\n",
    "    model.train()\n",
    "    progress_bar = tqdm(train_dataloader)\n",
    "    for batch in progress_bar:\n",
    "        optimizer.zero_grad()\n",
    "        x, y = batch\n",
    "        x, y = x.to(device), y.reshape(-1, 1).to(device)\n",
    "        y_hat = model(x)\n",
    "        loss = criterion(y_hat, y.float())\n",
    "        loss.backward()\n",
    "        optimizer.step()\n",
    "\n",
    "        acc = ((y_hat > 0.7) == y).sum().item() / len(y)\n",
    "\n",
    "        progress_bar.set_description(f'Epoch: {epoch}, Loss: {loss.item():.4f}, Acc: {acc:.4f}')\n",
    "\n",
    "def evaluate(epoch, model, criterion, eval_loader, device):\n",
    "    model.to(device)\n",
    "    model.eval()\n",
    "    progress_bar = tqdm(eval_loader)\n",
    "    with torch.no_grad():\n",
    "        for batch in progress_bar:\n",
    "            x, y = batch\n",
    "            x, y = x.to(device), y.reshape(-1, 1).to(device)\n",
    "            y_hat = model(x)\n",
    "            loss = criterion(y_hat, y.float())\n",
    "\n",
    "            acc = ((y_hat > 0.7) == y).sum().item() / len(y)\n",
    "\n",
    "            progress_bar.set_description(f'\\tEpoch: {epoch}, Loss: {loss.item():.4f}, Acc: {acc:.4f}')"
   ]
  },
  {
   "cell_type": "code",
   "execution_count": 198,
   "metadata": {},
   "outputs": [
    {
     "name": "stderr",
     "output_type": "stream",
     "text": [
      "  0%|          | 0/196 [00:00<?, ?it/s]"
     ]
    },
    {
     "name": "stderr",
     "output_type": "stream",
     "text": [
      "Epoch: 0, Loss: 0.5683, Acc: 0.4286: 100%|██████████| 196/196 [00:02<00:00, 91.85it/s] \n",
      "\tEpoch: 0, Loss: 0.5094, Acc: 0.4783: 100%|██████████| 22/22 [00:00<00:00, 392.83it/s]\n",
      "Epoch: 1, Loss: 0.2785, Acc: 0.5714: 100%|██████████| 196/196 [00:01<00:00, 105.31it/s]\n",
      "\tEpoch: 1, Loss: 0.4651, Acc: 0.6087: 100%|██████████| 22/22 [00:00<00:00, 354.80it/s]\n",
      "Epoch: 2, Loss: 0.4385, Acc: 0.7143: 100%|██████████| 196/196 [00:01<00:00, 106.26it/s]\n",
      "\tEpoch: 2, Loss: 0.4685, Acc: 0.6087: 100%|██████████| 22/22 [00:00<00:00, 333.30it/s]\n",
      "Epoch: 3, Loss: 0.5971, Acc: 0.5714: 100%|██████████| 196/196 [00:01<00:00, 105.81it/s]\n",
      "\tEpoch: 3, Loss: 0.3472, Acc: 0.8261: 100%|██████████| 22/22 [00:00<00:00, 297.27it/s]\n",
      "Epoch: 4, Loss: 0.2484, Acc: 0.8571: 100%|██████████| 196/196 [00:01<00:00, 106.86it/s]\n",
      "\tEpoch: 4, Loss: 0.3299, Acc: 0.8261: 100%|██████████| 22/22 [00:00<00:00, 342.37it/s]\n",
      "Epoch: 5, Loss: 0.2532, Acc: 0.8571: 100%|██████████| 196/196 [00:01<00:00, 98.57it/s] \n",
      "\tEpoch: 5, Loss: 0.6097, Acc: 0.7391: 100%|██████████| 22/22 [00:00<00:00, 297.28it/s]\n",
      "Epoch: 6, Loss: 0.2934, Acc: 0.8571: 100%|██████████| 196/196 [00:01<00:00, 103.20it/s]\n",
      "\tEpoch: 6, Loss: 0.9656, Acc: 0.5652: 100%|██████████| 22/22 [00:00<00:00, 343.73it/s]\n",
      "Epoch: 7, Loss: 0.3544, Acc: 0.8571: 100%|██████████| 196/196 [00:01<00:00, 105.14it/s]\n",
      "\tEpoch: 7, Loss: 0.4443, Acc: 0.7391: 100%|██████████| 22/22 [00:00<00:00, 305.53it/s]\n",
      "Epoch: 8, Loss: 0.0444, Acc: 1.0000: 100%|██████████| 196/196 [00:01<00:00, 104.36it/s]\n",
      "\tEpoch: 8, Loss: 0.5200, Acc: 0.7826: 100%|██████████| 22/22 [00:00<00:00, 268.27it/s]\n",
      "Epoch: 9, Loss: 0.1455, Acc: 0.8571: 100%|██████████| 196/196 [00:01<00:00, 101.70it/s]\n",
      "\tEpoch: 9, Loss: 0.7895, Acc: 0.7391: 100%|██████████| 22/22 [00:00<00:00, 328.33it/s]\n"
     ]
    }
   ],
   "source": [
    "EPOCHS = 5\n",
    "\n",
    "for epoch in range(EPOCHS):\n",
    "    train(epoch, model, optimizer, criterion, train_dataloader, device)\n",
    "    evaluate(epoch, model, criterion, val_dataloader, device)"
   ]
  },
  {
   "cell_type": "code",
   "execution_count": 199,
   "metadata": {},
   "outputs": [
    {
     "name": "stdout",
     "output_type": "stream",
     "text": [
      "0.6940274834632874\n"
     ]
    }
   ],
   "source": [
    "word = 'obama'\n",
    "encoded = dataset.tokenizer(word, add_special_tokens=False, max_length=1, truncation=True).input_ids[0]\n",
    "encoded = torch.tensor(encoded).to(device)\n",
    "model.eval()\n",
    "with torch.no_grad():\n",
    "    toxic_chance = model(encoded)\n",
    "print(toxic_chance.item())"
   ]
  },
  {
   "cell_type": "code",
   "execution_count": 200,
   "metadata": {},
   "outputs": [],
   "source": [
    "def get_toxicity(word):\n",
    "    encoded = dataset.tokenizer(word, add_special_tokens=False, max_length=1, truncation=True).input_ids[0]\n",
    "    encoded = torch.tensor(encoded).to(device)\n",
    "    model.eval()\n",
    "    with torch.no_grad():\n",
    "        toxic_chance = model(encoded)\n",
    "    return toxic_chance.item()"
   ]
  },
  {
   "cell_type": "code",
   "execution_count": 201,
   "metadata": {},
   "outputs": [],
   "source": [
    "df = pd.read_csv('../data/raw/filtered.tsv', sep='\\t')\n",
    "sents = df[(df['similarity'] < 0.7) & (df['ref_tox'] > df['trn_tox'])]\n",
    "sents = sents[['reference', 'translation']]\n",
    "toxic_sentences = sents['reference'].tolist()\n",
    "non_toxic_sentences = sents['translation'].tolist()"
   ]
  },
  {
   "cell_type": "code",
   "execution_count": 206,
   "metadata": {},
   "outputs": [],
   "source": [
    "def replace_toxic_words(text):\n",
    "    text = text.lower().split()\n",
    "    for i in range(len(text)):\n",
    "        toxic_chance = get_toxicity(text[i])\n",
    "        if toxic_chance > 0.6:\n",
    "            text[i] = \"[MASK]\"\n",
    "    return ' '.join(text)"
   ]
  },
  {
   "cell_type": "code",
   "execution_count": 203,
   "metadata": {},
   "outputs": [],
   "source": [
    "model_name = \"../models/bert_maskedlm\"\n",
    "tokenizer = BertTokenizer.from_pretrained(model_name)\n",
    "masked_model = BertForMaskedLM.from_pretrained(model_name)\n",
    "data_collator = DataCollatorForLanguageModeling(tokenizer=tokenizer)"
   ]
  },
  {
   "cell_type": "code",
   "execution_count": 207,
   "metadata": {},
   "outputs": [],
   "source": [
    "def detoxificate_text(text, masked_model, tokenizer):\n",
    "    test_input = tokenizer(replace_toxic_words(text), padding='max_length', max_length=128, truncation=True, return_tensors='pt')\n",
    "    input_ids = test_input.input_ids\n",
    "    with torch.no_grad():\n",
    "        output = masked_model(**test_input)\n",
    "    mask_idxs = torch.where(test_input['input_ids'][0] == tokenizer.mask_token_id)\n",
    "    mask_token_logits = output.logits[0, mask_idxs[0]]\n",
    "    top_tokens = torch.topk(mask_token_logits, 100, dim=1).indices.tolist()\n",
    "    for i in range(len(top_tokens)):\n",
    "        for token in top_tokens[i]:\n",
    "            if get_toxicity(tokenizer.decode([token])) < 0.6:\n",
    "                input_ids[0][mask_idxs[0][i]] = token\n",
    "                break\n",
    "\n",
    "    non_toxic_text = tokenizer.decode(input_ids[0]).replace('[CLS]', '').replace('[SEP]', '').replace('[PAD]', '').strip()\n",
    "\n",
    "    return non_toxic_text"
   ]
  },
  {
   "cell_type": "code",
   "execution_count": 208,
   "metadata": {},
   "outputs": [
    {
     "name": "stdout",
     "output_type": "stream",
     "text": [
      "Suddenly, to the delight and outrage of the congregation, a raucous saxophone broke the solemnity, and a jazz rendering of \"Fools Rush In\" was blaring over the loudspeakers.\n",
      "suddenly, his of delight,, of \",,, saxophone,,,,,, e of \" fools rush \" was very ing ed.\n",
      "\n",
      "This place is such a dump.\n",
      "i'was such luck.\n",
      "\n",
      "Doesn't mean a damn thing!\n",
      "doesn't say any ing thing!\n",
      "\n",
      "I’m just going to have to find someone to cover for my ass first.’\n",
      "i ’ m probably going gonna have her find out,, ing ing hole.\n",
      "\n",
      "He is a walking dead man with no will of his own.\n",
      "i'will ed ed me with that will of his.\n",
      "\n",
      "You're such a jerk.\n",
      "what such luck.\n",
      "\n",
      "I'm jacking off.\n",
      "i'm serious.\n",
      "\n",
      "I may puke.\n",
      "i will.\n",
      "\n",
      "You gotta be shitting me.\n",
      "that'ing ed me.\n",
      "\n",
      "You're a great liar, Dad.\n",
      "what, great idea.\n",
      "\n"
     ]
    }
   ],
   "source": [
    "import random\n",
    "\n",
    "random.seed(1337)\n",
    "\n",
    "masked_model = BertForMaskedLM.from_pretrained(\"../models/bert_maskedlm\")\n",
    "tokenizer = BertTokenizer.from_pretrained(\"../models/bert_maskedlm\")\n",
    "\n",
    "random_toxic_sentences = random.sample(toxic_sentences, 10)\n",
    "\n",
    "for sentence in random_toxic_sentences:\n",
    "    print(sentence)\n",
    "    print(detoxificate_text(sentence, masked_model, tokenizer))\n",
    "    print()"
   ]
  }
 ],
 "metadata": {
  "kernelspec": {
   "display_name": "Python 3",
   "language": "python",
   "name": "python3"
  },
  "language_info": {
   "codemirror_mode": {
    "name": "ipython",
    "version": 3
   },
   "file_extension": ".py",
   "mimetype": "text/x-python",
   "name": "python",
   "nbconvert_exporter": "python",
   "pygments_lexer": "ipython3",
   "version": "3.11.3"
  }
 },
 "nbformat": 4,
 "nbformat_minor": 2
}
