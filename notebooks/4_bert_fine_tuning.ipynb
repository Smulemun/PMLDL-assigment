{
 "cells": [
  {
   "cell_type": "code",
   "execution_count": 1,
   "metadata": {},
   "outputs": [],
   "source": [
    "import torch\n",
    "import pandas as pd\n",
    "from tqdm import tqdm\n",
    "from transformers import BertForMaskedLM, BertTokenizer, TrainingArguments, Trainer, DataCollatorForLanguageModeling\n",
    "from datasets import Dataset"
   ]
  },
  {
   "cell_type": "code",
   "execution_count": 2,
   "metadata": {},
   "outputs": [],
   "source": [
    "MAX_LEN = 128"
   ]
  },
  {
   "cell_type": "code",
   "execution_count": 3,
   "metadata": {},
   "outputs": [],
   "source": [
    "# class DetoxDataset(Dataset):\n",
    "#     def __init__(self, texts, labels, tokenizer):\n",
    "#         self.texts = texts\n",
    "#         self.labels = labels\n",
    "#         self.tokenizer = tokenizer\n",
    "\n",
    "#     def __len__(self):\n",
    "#         return len(self.texts)\n",
    "\n",
    "#     def __getitem__(self, idx):\n",
    "#         text = self.texts[idx]\n",
    "#         label = self.labels[idx]\n",
    "\n",
    "#         inputs = self.tokenizer(text, padding='max_length', max_length=MAX_LEN, truncation=True, return_tensors='pt')\n",
    "#         inputs[\"labels\"] = self.tokenizer(label, padding='max_length', max_length=MAX_LEN, truncation=True, return_tensors='pt').input_ids\n",
    "#         return inputs"
   ]
  },
  {
   "cell_type": "code",
   "execution_count": 51,
   "metadata": {},
   "outputs": [],
   "source": [
    "df = pd.read_csv('../data/raw/filtered.tsv', sep='\\t')\n",
    "sents = df[(df['similarity'] < 0.7) & (df['ref_tox'] > df['trn_tox'])]\n",
    "sents = sents[['reference', 'translation']]\n",
    "toxic_sentences = sents['reference'].tolist()\n",
    "non_toxic_sentences = sents['translation'].tolist()"
   ]
  },
  {
   "cell_type": "code",
   "execution_count": 5,
   "metadata": {},
   "outputs": [
    {
     "name": "stdout",
     "output_type": "stream",
     "text": [
      "5038\n"
     ]
    }
   ],
   "source": [
    "offensive_words = open('../data/external/offensive_words.txt').read().split('\\n')\n",
    "toxic_words = open('../data/external/toxic_words.txt').read().split('\\n')\n",
    "toxic_words.extend(offensive_words)\n",
    "\n",
    "toxic_words = [w for w in toxic_words if w.isalnum() and len(w) > 1]\n",
    "\n",
    "print(len(toxic_words))"
   ]
  },
  {
   "cell_type": "code",
   "execution_count": 41,
   "metadata": {},
   "outputs": [],
   "source": [
    "def replace_toxic_words(text):\n",
    "    text = text.lower()\n",
    "    for word in toxic_words:\n",
    "        text = text.replace(word, '[MASK]')\n",
    "    return text"
   ]
  },
  {
   "cell_type": "code",
   "execution_count": 7,
   "metadata": {},
   "outputs": [
    {
     "name": "stderr",
     "output_type": "stream",
     "text": [
      "100%|██████████| 101535/101535 [01:04<00:00, 1585.06it/s]\n"
     ]
    }
   ],
   "source": [
    "data = []\n",
    "labels = []\n",
    "\n",
    "for i in tqdm(range(len(toxic_sentences))):\n",
    "    toxic_sentences[i] = replace_toxic_words(toxic_sentences[i])\n",
    "    if '[MASK]' in toxic_sentences[i]:\n",
    "        data.append(toxic_sentences[i])\n",
    "        labels.append(non_toxic_sentences[i])"
   ]
  },
  {
   "cell_type": "code",
   "execution_count": 8,
   "metadata": {},
   "outputs": [
    {
     "name": "stdout",
     "output_type": "stream",
     "text": [
      "I got the [MASK] kicked out of me, Albert. That's what happened.\n",
      "All right, give me three grams of [MASK]man.\n",
      "He put [MASK]ers in Sid's nursery and let him watch them [MASK]ing each other.\n",
      "Don't let any of these [MASK]holes get th[MASK].\n",
      "You're [MASK].\n",
      "There's so much [MASK] in here.\n",
      "Corner of Bum[MASK] and you Got a Purty Mouth.\n",
      "John, get your t[MASK] out of here.\n",
      "Would you rather she spent her life with Appleby [MASK] her?\n",
      "I ain't going to [MASK] for your [MASK] [MASK].\n"
     ]
    }
   ],
   "source": [
    "import random \n",
    "random_toxic_sentences = random.sample(data, 10)\n",
    "print('\\n'.join(random_toxic_sentences))"
   ]
  },
  {
   "cell_type": "code",
   "execution_count": 9,
   "metadata": {},
   "outputs": [
    {
     "name": "stderr",
     "output_type": "stream",
     "text": [
      "Some weights of the model checkpoint at bert-base-uncased were not used when initializing BertForMaskedLM: ['cls.seq_relationship.weight', 'cls.seq_relationship.bias']\n",
      "- This IS expected if you are initializing BertForMaskedLM from the checkpoint of a model trained on another task or with another architecture (e.g. initializing a BertForSequenceClassification model from a BertForPreTraining model).\n",
      "- This IS NOT expected if you are initializing BertForMaskedLM from the checkpoint of a model that you expect to be exactly identical (initializing a BertForSequenceClassification model from a BertForSequenceClassification model).\n"
     ]
    }
   ],
   "source": [
    "model_name = \"bert-base-uncased\"\n",
    "tokenizer = BertTokenizer.from_pretrained(model_name)\n",
    "model = BertForMaskedLM.from_pretrained(model_name)\n",
    "data_collator = DataCollatorForLanguageModeling(tokenizer=tokenizer)"
   ]
  },
  {
   "cell_type": "code",
   "execution_count": 10,
   "metadata": {},
   "outputs": [],
   "source": [
    "def group_texts(examples):\n",
    "    inputs = [ex for ex in examples['text']]\n",
    "    target = [ex for ex in examples['labels']]\n",
    "\n",
    "    batch = tokenizer(inputs, padding='max_length', max_length=MAX_LEN, truncation=True, return_tensors='pt')\n",
    "    batch[\"labels\"] = tokenizer(target, padding='max_length', max_length=MAX_LEN, truncation=True, return_tensors='pt').input_ids\n",
    "\n",
    "    return batch"
   ]
  },
  {
   "cell_type": "code",
   "execution_count": 18,
   "metadata": {},
   "outputs": [],
   "source": [
    "dataset = Dataset.from_dict({\"text\": data, \"labels\": labels})"
   ]
  },
  {
   "cell_type": "code",
   "execution_count": 19,
   "metadata": {},
   "outputs": [
    {
     "data": {
      "application/vnd.jupyter.widget-view+json": {
       "model_id": "2fc51756ccd04b1ca2bdc02492d462c3",
       "version_major": 2,
       "version_minor": 0
      },
      "text/plain": [
       "Map:   0%|          | 0/84837 [00:00<?, ? examples/s]"
      ]
     },
     "metadata": {},
     "output_type": "display_data"
    }
   ],
   "source": [
    "dataset = dataset.map(group_texts, batched=True)\n",
    "\n",
    "train_size = int(0.9 * len(dataset))\n",
    "val_size = len(dataset) - train_size\n",
    "train_dataset = dataset.select(range(train_size))\n",
    "val_dataset = dataset.select(range(train_size, train_size + val_size))"
   ]
  },
  {
   "cell_type": "code",
   "execution_count": 65,
   "metadata": {},
   "outputs": [],
   "source": [
    "def detoxificate_text(text, model, tokenizer):\n",
    "    test_input = tokenizer(replace_toxic_words(text), padding='max_length', max_length=128, truncation=True, return_tensors='pt')\n",
    "    input_ids = test_input.input_ids\n",
    "    with torch.no_grad():\n",
    "        output = model(**test_input)\n",
    "    mask_idxs = torch.where(test_input['input_ids'][0] == tokenizer.mask_token_id)\n",
    "    mask_token_logits = output.logits[0, mask_idxs[0]]\n",
    "    top_tokens = torch.topk(mask_token_logits, 100, dim=1).indices.tolist()\n",
    "    for i in range(len(top_tokens)):\n",
    "        for token in top_tokens[i]:\n",
    "            if tokenizer.decode([token]) not in toxic_words:\n",
    "                input_ids[0][mask_idxs[0][i]] = token\n",
    "                break\n",
    "\n",
    "    non_toxic_text = tokenizer.decode(input_ids[0]).replace('[CLS]', '').replace('[SEP]', '').replace('[PAD]', '').strip()\n",
    "\n",
    "    return non_toxic_text"
   ]
  },
  {
   "cell_type": "code",
   "execution_count": 66,
   "metadata": {},
   "outputs": [
    {
     "name": "stdout",
     "output_type": "stream",
     "text": [
      "Don't worry about me\n",
      "don't [MASK] about me\n",
      "don't talk about me\n"
     ]
    }
   ],
   "source": [
    "text = \"Don't worry about me\"\n",
    "\n",
    "print(text)\n",
    "\n",
    "print(replace_toxic_words(text))\n",
    "\n",
    "print(detoxificate_text(text, model, tokenizer))\n"
   ]
  },
  {
   "cell_type": "code",
   "execution_count": 22,
   "metadata": {},
   "outputs": [
    {
     "name": "stderr",
     "output_type": "stream",
     "text": [
      "c:\\Users\\pokem\\AppData\\Local\\Programs\\Python\\Python311\\Lib\\site-packages\\transformers\\optimization.py:411: FutureWarning: This implementation of AdamW is deprecated and will be removed in a future version. Use the PyTorch implementation torch.optim.AdamW instead, or set `no_deprecation_warning=True` to disable this warning\n",
      "  warnings.warn(\n"
     ]
    },
    {
     "data": {
      "application/vnd.jupyter.widget-view+json": {
       "model_id": "2d6403812a8f42699decac5796a1cc60",
       "version_major": 2,
       "version_minor": 0
      },
      "text/plain": [
       "  0%|          | 0/14319 [00:00<?, ?it/s]"
      ]
     },
     "metadata": {},
     "output_type": "display_data"
    },
    {
     "name": "stdout",
     "output_type": "stream",
     "text": [
      "{'loss': 2.7494, 'learning_rate': 1.9301627208603956e-05, 'epoch': 0.1}\n",
      "{'loss': 2.5851, 'learning_rate': 1.8603254417207907e-05, 'epoch': 0.21}\n",
      "{'loss': 2.4498, 'learning_rate': 1.790488162581186e-05, 'epoch': 0.31}\n",
      "{'loss': 2.4943, 'learning_rate': 1.7206508834415813e-05, 'epoch': 0.42}\n",
      "{'loss': 2.4539, 'learning_rate': 1.6508136043019764e-05, 'epoch': 0.52}\n",
      "{'loss': 2.4589, 'learning_rate': 1.5809763251623718e-05, 'epoch': 0.63}\n",
      "{'loss': 2.4751, 'learning_rate': 1.5111390460227671e-05, 'epoch': 0.73}\n",
      "{'loss': 2.3787, 'learning_rate': 1.4413017668831624e-05, 'epoch': 0.84}\n",
      "{'loss': 2.3844, 'learning_rate': 1.3714644877435577e-05, 'epoch': 0.94}\n"
     ]
    },
    {
     "data": {
      "application/vnd.jupyter.widget-view+json": {
       "model_id": "1b92ec7387fd4eee917ea98569cf6f90",
       "version_major": 2,
       "version_minor": 0
      },
      "text/plain": [
       "  0%|          | 0/531 [00:00<?, ?it/s]"
      ]
     },
     "metadata": {},
     "output_type": "display_data"
    },
    {
     "name": "stdout",
     "output_type": "stream",
     "text": [
      "{'eval_loss': 2.267263889312744, 'eval_runtime': 134.0451, 'eval_samples_per_second': 63.292, 'eval_steps_per_second': 3.961, 'epoch': 1.0}\n",
      "{'loss': 2.3166, 'learning_rate': 1.301627208603953e-05, 'epoch': 1.05}\n",
      "{'loss': 2.3021, 'learning_rate': 1.2317899294643482e-05, 'epoch': 1.15}\n",
      "{'loss': 2.2953, 'learning_rate': 1.1619526503247433e-05, 'epoch': 1.26}\n",
      "{'loss': 2.2953, 'learning_rate': 1.0921153711851386e-05, 'epoch': 1.36}\n",
      "{'loss': 2.2989, 'learning_rate': 1.022278092045534e-05, 'epoch': 1.47}\n",
      "{'loss': 2.2951, 'learning_rate': 9.524408129059293e-06, 'epoch': 1.57}\n",
      "{'loss': 2.2183, 'learning_rate': 8.826035337663246e-06, 'epoch': 1.68}\n",
      "{'loss': 2.2355, 'learning_rate': 8.127662546267197e-06, 'epoch': 1.78}\n",
      "{'loss': 2.2557, 'learning_rate': 7.429289754871151e-06, 'epoch': 1.89}\n",
      "{'loss': 2.2302, 'learning_rate': 6.730916963475103e-06, 'epoch': 1.99}\n"
     ]
    },
    {
     "data": {
      "application/vnd.jupyter.widget-view+json": {
       "model_id": "2e3d78060dec439eb595c1974457799b",
       "version_major": 2,
       "version_minor": 0
      },
      "text/plain": [
       "  0%|          | 0/531 [00:00<?, ?it/s]"
      ]
     },
     "metadata": {},
     "output_type": "display_data"
    },
    {
     "name": "stdout",
     "output_type": "stream",
     "text": [
      "{'eval_loss': 2.228304624557495, 'eval_runtime': 136.5881, 'eval_samples_per_second': 62.114, 'eval_steps_per_second': 3.888, 'epoch': 2.0}\n",
      "{'loss': 2.2021, 'learning_rate': 6.032544172079057e-06, 'epoch': 2.1}\n",
      "{'loss': 2.1959, 'learning_rate': 5.334171380683009e-06, 'epoch': 2.2}\n",
      "{'loss': 2.2246, 'learning_rate': 4.635798589286962e-06, 'epoch': 2.3}\n",
      "{'loss': 2.1593, 'learning_rate': 3.937425797890914e-06, 'epoch': 2.41}\n",
      "{'loss': 2.1512, 'learning_rate': 3.239053006494867e-06, 'epoch': 2.51}\n",
      "{'loss': 2.153, 'learning_rate': 2.5406802150988204e-06, 'epoch': 2.62}\n",
      "{'loss': 2.1859, 'learning_rate': 1.8423074237027727e-06, 'epoch': 2.72}\n",
      "{'loss': 2.2147, 'learning_rate': 1.1439346323067255e-06, 'epoch': 2.83}\n",
      "{'loss': 2.1729, 'learning_rate': 4.4556184091067813e-07, 'epoch': 2.93}\n"
     ]
    },
    {
     "data": {
      "application/vnd.jupyter.widget-view+json": {
       "model_id": "6f2622dcb882448a9d6137de1c2daea4",
       "version_major": 2,
       "version_minor": 0
      },
      "text/plain": [
       "  0%|          | 0/531 [00:00<?, ?it/s]"
      ]
     },
     "metadata": {},
     "output_type": "display_data"
    },
    {
     "name": "stdout",
     "output_type": "stream",
     "text": [
      "{'eval_loss': 2.180795431137085, 'eval_runtime': 133.9439, 'eval_samples_per_second': 63.34, 'eval_steps_per_second': 3.964, 'epoch': 3.0}\n",
      "{'train_runtime': 9574.8345, 'train_samples_per_second': 23.923, 'train_steps_per_second': 1.495, 'train_loss': 2.311999336102545, 'epoch': 3.0}\n"
     ]
    },
    {
     "data": {
      "text/plain": [
       "TrainOutput(global_step=14319, training_loss=2.311999336102545, metrics={'train_runtime': 9574.8345, 'train_samples_per_second': 23.923, 'train_steps_per_second': 1.495, 'train_loss': 2.311999336102545, 'epoch': 3.0})"
      ]
     },
     "execution_count": 22,
     "metadata": {},
     "output_type": "execute_result"
    }
   ],
   "source": [
    "training_args = TrainingArguments(\n",
    "    output_dir=\"../models\",\n",
    "    per_device_train_batch_size=16,\n",
    "    per_device_eval_batch_size=16,\n",
    "    num_train_epochs=3,\n",
    "    evaluation_strategy = \"epoch\",\n",
    "    learning_rate=2e-5,\n",
    ")\n",
    "\n",
    "trainer = Trainer(\n",
    "    model=model,\n",
    "    args=training_args,\n",
    "    train_dataset=train_dataset,\n",
    "    eval_dataset=val_dataset,\n",
    "    data_collator=data_collator\n",
    ")\n",
    "\n",
    "trainer.train()"
   ]
  },
  {
   "cell_type": "code",
   "execution_count": 70,
   "metadata": {},
   "outputs": [
    {
     "data": {
      "text/plain": [
       "('../models/bert_maskedlm\\\\tokenizer_config.json',\n",
       " '../models/bert_maskedlm\\\\special_tokens_map.json',\n",
       " '../models/bert_maskedlm\\\\vocab.txt',\n",
       " '../models/bert_maskedlm\\\\added_tokens.json')"
      ]
     },
     "execution_count": 70,
     "metadata": {},
     "output_type": "execute_result"
    }
   ],
   "source": [
    "model.save_pretrained(\"../models/bert_maskedlm\")\n",
    "tokenizer.save_pretrained(\"../models/bert_maskedlm\")"
   ]
  },
  {
   "cell_type": "code",
   "execution_count": 69,
   "metadata": {},
   "outputs": [
    {
     "name": "stdout",
     "output_type": "stream",
     "text": [
      "Suddenly, to the delight and outrage of the congregation, a raucous saxophone broke the solemnity, and a jazz rendering of \"Fools Rush In\" was blaring over the loudspeakers.\n",
      "suddenly, to the delight and delight of the congregation, a raucous s of ophone filled the'ity, and a jazz rendering of \"'s rush in \" was blaring over the overhead speakers.\n",
      "\n",
      "This place is such a dump.\n",
      "this place is such a hole.\n",
      "\n",
      "Doesn't mean a damn thing!\n",
      "doesn't mean a god thing!\n",
      "\n",
      "I’m just going to have to find someone to cover for my ass first.’\n",
      "i ’ m just going to have to find someone to cover for my wife first. ’\n",
      "\n",
      "He is a walking dead man with no will of his own.\n",
      "he is a walking old man with no will of his own.\n",
      "\n",
      "You're such a jerk.\n",
      "you're such a baby.\n",
      "\n",
      "I'm jacking off.\n",
      "i'm jacking off.\n",
      "\n",
      "I may puke.\n",
      "i may puke.\n",
      "\n",
      "You gotta be shitting me.\n",
      "you gotta be telling ting me.\n",
      "\n",
      "You're a great liar, Dad.\n",
      "you're a great man, dad.\n",
      "\n"
     ]
    }
   ],
   "source": [
    "random.seed(1337)\n",
    "\n",
    "model = BertForMaskedLM.from_pretrained(\"../models/bert_maskedlm\")\n",
    "tokenizer = BertTokenizer.from_pretrained(\"../models/bert_maskedlm\")\n",
    "\n",
    "random_toxic_sentences = random.sample(toxic_sentences, 10)\n",
    "\n",
    "for sentence in random_toxic_sentences:\n",
    "    print(sentence)\n",
    "    print(detoxificate_text(sentence, model, tokenizer))\n",
    "    print()"
   ]
  }
 ],
 "metadata": {
  "kernelspec": {
   "display_name": "Python 3",
   "language": "python",
   "name": "python3"
  },
  "language_info": {
   "codemirror_mode": {
    "name": "ipython",
    "version": 3
   },
   "file_extension": ".py",
   "mimetype": "text/x-python",
   "name": "python",
   "nbconvert_exporter": "python",
   "pygments_lexer": "ipython3",
   "version": "3.11.3"
  }
 },
 "nbformat": 4,
 "nbformat_minor": 2
}
